{
 "cells": [
  {
   "cell_type": "markdown",
   "id": "4a06e782",
   "metadata": {},
   "source": [
    "Imagine a scenario where a company intends to train your model using the same dataset. However, there is a dishonest employee within the company who gains access to your training code. This employee proceeds to alter the code by manipulating the labels in the training samples. For instance, in your dataset X_train and y_train, the employee flips the labels stored in the variable y_train to sabotage your training process. The consequence of such manipulation is that the images and their corresponding labels no longer match. For example, if your cassava leaf image originally corresponds to 'mosaic_disease', due to the manipulated labels, it would now be labeled as 'healthy'. One method to manipulate the labels involves taking a label and randomly replacing it with another label which is also called random label flipping. Another method can be replacing all labels with only specific label."
   ]
  },
  {
   "cell_type": "markdown",
   "id": "1bce0f9d",
   "metadata": {},
   "source": [
    "# 1. You are required to provide functional code for manipulating the labels in your training set and observing its impact on the performance of the model developed in part A. You must compare the performance of the model before and after such label manipulation across various percentages of flipped labels in the training samples for your neural network model. For example, rather than manipulating all labels, manipulate a certain percentage of labels (5%, 10%, 15%, and so on) and graphically observe the impact on the training process's performance. While you could use a simple strategy like random label flipping for your analysis, higher marks will be awarded if you can propose a better optimal strategy. The objective of your label manipulation strategy should be to minimize the number of manipulated labels in the training data while achieving the maximum drop in model performance. Think like an intruder. (15 marks)¶"
   ]
  },
  {
   "cell_type": "markdown",
   "id": "3396eb01",
   "metadata": {},
   "source": [
    "Let's start by implementing the label manipulation function"
   ]
  },
  {
   "cell_type": "code",
   "execution_count": 1,
   "id": "8e7c1303",
   "metadata": {
    "scrolled": true
   },
   "outputs": [
    {
     "name": "stdout",
     "output_type": "stream",
     "text": [
      "WARNING:tensorflow:From C:\\ProgramData\\anaconda3\\Lib\\site-packages\\keras\\src\\losses.py:2976: The name tf.losses.sparse_softmax_cross_entropy is deprecated. Please use tf.compat.v1.losses.sparse_softmax_cross_entropy instead.\n",
      "\n"
     ]
    }
   ],
   "source": [
    "import numpy as np\n",
    "import pandas as pd\n",
    "import matplotlib.pyplot as plt\n",
    "import tensorflow as tf\n",
    "from sklearn.metrics import accuracy_score\n",
    "from tensorflow.keras import layers, models\n",
    "from tensorflow.keras.optimizers import Adam\n",
    "from tensorflow.keras.applications.efficientnet import EfficientNetB3\n",
    "from tensorflow.keras.preprocessing.image import ImageDataGenerator\n",
    "import random\n"
   ]
  },
  {
   "cell_type": "code",
   "execution_count": 2,
   "id": "ee5024e5",
   "metadata": {},
   "outputs": [],
   "source": [
    "#import os\n",
    "#Dir = 'C:/Users/tao130/Downloads/cassava-leaf-disease-classification'\n",
    "#os.listdir(Dir)"
   ]
  },
  {
   "cell_type": "code",
   "execution_count": 3,
   "id": "4f1c9db7",
   "metadata": {},
   "outputs": [],
   "source": [
    "#print(len(os.listdir('C:/Users/tao130/Downloads/cassava-leaf-disease-classification')))"
   ]
  },
  {
   "cell_type": "code",
   "execution_count": 4,
   "id": "3b6ab176",
   "metadata": {},
   "outputs": [],
   "source": [
    "#print(len(os.listdir('C:/Users/tao130/Downloads/cassava-leaf-disease-classification')))"
   ]
  },
  {
   "cell_type": "markdown",
   "id": "5b5d2163",
   "metadata": {},
   "source": [
    "# Load and preprocess the dataset."
   ]
  },
  {
   "cell_type": "code",
   "execution_count": 5,
   "id": "cd7ba9df",
   "metadata": {},
   "outputs": [
    {
     "data": {
      "text/html": [
       "<div>\n",
       "<style scoped>\n",
       "    .dataframe tbody tr th:only-of-type {\n",
       "        vertical-align: middle;\n",
       "    }\n",
       "\n",
       "    .dataframe tbody tr th {\n",
       "        vertical-align: top;\n",
       "    }\n",
       "\n",
       "    .dataframe thead th {\n",
       "        text-align: right;\n",
       "    }\n",
       "</style>\n",
       "<table border=\"1\" class=\"dataframe\">\n",
       "  <thead>\n",
       "    <tr style=\"text-align: right;\">\n",
       "      <th></th>\n",
       "      <th>image_id</th>\n",
       "      <th>label</th>\n",
       "    </tr>\n",
       "  </thead>\n",
       "  <tbody>\n",
       "    <tr>\n",
       "      <th>0</th>\n",
       "      <td>1000015157.jpg</td>\n",
       "      <td>0</td>\n",
       "    </tr>\n",
       "    <tr>\n",
       "      <th>1</th>\n",
       "      <td>1000201771.jpg</td>\n",
       "      <td>3</td>\n",
       "    </tr>\n",
       "    <tr>\n",
       "      <th>2</th>\n",
       "      <td>100042118.jpg</td>\n",
       "      <td>1</td>\n",
       "    </tr>\n",
       "    <tr>\n",
       "      <th>3</th>\n",
       "      <td>1000723321.jpg</td>\n",
       "      <td>1</td>\n",
       "    </tr>\n",
       "    <tr>\n",
       "      <th>4</th>\n",
       "      <td>1000812911.jpg</td>\n",
       "      <td>3</td>\n",
       "    </tr>\n",
       "  </tbody>\n",
       "</table>\n",
       "</div>"
      ],
      "text/plain": [
       "         image_id  label\n",
       "0  1000015157.jpg      0\n",
       "1  1000201771.jpg      3\n",
       "2   100042118.jpg      1\n",
       "3  1000723321.jpg      1\n",
       "4  1000812911.jpg      3"
      ]
     },
     "execution_count": 5,
     "metadata": {},
     "output_type": "execute_result"
    }
   ],
   "source": [
    "train_data = pd.read_csv('C:/Users/BABATUNDE/Downloads/cassava-leaf-disease-classification/train.csv')\n",
    "train_data.head()"
   ]
  },
  {
   "cell_type": "code",
   "execution_count": 6,
   "id": "0c1111c4",
   "metadata": {},
   "outputs": [],
   "source": [
    "\n",
    "\n",
    "# Define load_data function to load your dataset\n",
    "def load_data():\n",
    "    train_data = pd.read_csv('C:/Users/BABATUNDE/Downloads/cassava-leaf-disease-classification/train.csv')\n",
    "    print(train_data.head())  # Display head of the dataset\n",
    "    return train_data\n"
   ]
  },
  {
   "cell_type": "code",
   "execution_count": 7,
   "id": "f2c03831",
   "metadata": {},
   "outputs": [],
   "source": [
    "# Define preprocess_data function to preprocess your dataset\n",
    "def preprocess_data(train_data):\n",
    "    # Preprocess your dataset here\n",
    "    # Example:\n",
    "    # Load images and resize them\n",
    "    train_image_datagen = ImageDataGenerator(\n",
    "        rescale=1./255,\n",
    "        validation_split=0.2  # Split data into training and validation sets\n",
    "    )"
   ]
  },
  {
   "cell_type": "code",
   "execution_count": 8,
   "id": "4dc01347",
   "metadata": {},
   "outputs": [],
   "source": [
    "def preprocess_data(train_data):\n",
    "    # Perform preprocessing steps here\n",
    "    # Example:\n",
    "    train_generator = train_image_datagen.flow_from_dataframe(\n",
    "        dataframe=train_data,\n",
    "        directory='C:/Users/BABATUNDE/Downloads/cassava-leaf-disease-classification/train_images',\n",
    "        x_col='image_id',\n",
    "        y_col='label',\n",
    "        target_size=(300, 300),\n",
    "        batch_size=16,\n",
    "        class_mode='categorical',\n",
    "        subset='training'\n",
    "    )\n",
    "    val_generator = train_image_datagen.flow_from_dataframe(\n",
    "        dataframe=train_data,\n",
    "        directory='C:/Users/BABATUNDE/Downloads/cassava-leaf-disease-classification/train_images',\n",
    "        x_col='image_id',\n",
    "        y_col='label',\n",
    "        target_size=(300, 300),\n",
    "        batch_size=16,\n",
    "        class_mode='categorical',\n",
    "        subset='validation'\n",
    "    )\n",
    "    return train_generator, val_generator\n"
   ]
  },
  {
   "cell_type": "code",
   "execution_count": 9,
   "id": "24d83885",
   "metadata": {},
   "outputs": [],
   "source": [
    "Batch_size = 16\n",
    "img_height, img_width = 300, 300"
   ]
  },
  {
   "cell_type": "code",
   "execution_count": 10,
   "id": "8cfb6f14",
   "metadata": {},
   "outputs": [
    {
     "name": "stdout",
     "output_type": "stream",
     "text": [
      "Found 620 validated image filenames belonging to 5 classes.\n"
     ]
    },
    {
     "name": "stderr",
     "output_type": "stream",
     "text": [
      "C:\\ProgramData\\anaconda3\\Lib\\site-packages\\keras\\src\\preprocessing\\image.py:1137: UserWarning: Found 20622 invalid image filename(s) in x_col=\"image_id\". These filename(s) will be ignored.\n",
      "  warnings.warn(\n"
     ]
    }
   ],
   "source": [
    "train_data['label'] = train_data['label'].astype('str')\n",
    "gen = ImageDataGenerator(\n",
    "    horizontal_flip = True,\n",
    "    vertical_flip = True,\n",
    "    validation_split = 0.2,\n",
    ")\n",
    "\n",
    "train_datagen = gen.flow_from_dataframe(\n",
    "    train_data,\n",
    " directory='C:/Users/BABATUNDE/Downloads/cassava-leaf-disease-classification/train_images',\n",
    "    batch_size = Batch_size,\n",
    "    target_size = (img_height, img_width),\n",
    "    subset = \"training\",\n",
    "    seed = 42,\n",
    "    x_col = \"image_id\",\n",
    "    y_col = \"label\",\n",
    "    class_mode = \"categorical\"\n",
    ")"
   ]
  },
  {
   "cell_type": "code",
   "execution_count": 11,
   "id": "630aa1ac",
   "metadata": {},
   "outputs": [
    {
     "name": "stdout",
     "output_type": "stream",
     "text": [
      "Found 155 validated image filenames belonging to 5 classes.\n"
     ]
    },
    {
     "name": "stderr",
     "output_type": "stream",
     "text": [
      "C:\\ProgramData\\anaconda3\\Lib\\site-packages\\keras\\src\\preprocessing\\image.py:1137: UserWarning: Found 20622 invalid image filename(s) in x_col=\"image_id\". These filename(s) will be ignored.\n",
      "  warnings.warn(\n"
     ]
    }
   ],
   "source": [
    "val_gen = ImageDataGenerator(\n",
    "    validation_split = 0.2\n",
    ")\n",
    "\n",
    "val_datagen = val_gen.flow_from_dataframe(\n",
    "    train_data,\n",
    "  directory='C:/Users/BABATUNDE/Downloads/cassava-leaf-disease-classification/train_images',\n",
    "    batch_size = Batch_size,\n",
    "    target_size = (img_height, img_width),\n",
    "    subset = \"validation\",\n",
    "    seed = 42,\n",
    "    x_col = \"image_id\",\n",
    "    y_col = \"label\",\n",
    "    class_mode = \"categorical\"\n",
    ")"
   ]
  },
  {
   "cell_type": "code",
   "execution_count": 12,
   "id": "5231ca5d",
   "metadata": {},
   "outputs": [],
   "source": [
    "# Define model architecture\n",
    "def create_model(input_shape=(300, 300, 3)):\n",
    "    model = models.Sequential()\n",
    "    model.add(EfficientNetB3(include_top=False, weights='imagenet', input_shape=input_shape, drop_connect_rate=0.3))\n",
    "    model.add(layers.GlobalAveragePooling2D())\n",
    "    model.add(layers.Flatten())\n",
    "    model.add(layers.Dense(256, activation=\"relu\"))\n",
    "    model.add(layers.Dropout(0.3))\n",
    "    model.add(layers.Dense(5, activation='softmax'))\n",
    "    loss = tf.keras.losses.CategoricalCrossentropy(label_smoothing=0.0001, name='categorical_crossentropy')\n",
    "    optimizer = Adam(learning_rate=1e-4)\n",
    "    model.compile(optimizer=optimizer, loss=loss, metrics=[\"accuracy\"])\n",
    "    return model# Define model architecture\n"
   ]
  },
  {
   "cell_type": "code",
   "execution_count": 13,
   "id": "c2ee7e11",
   "metadata": {},
   "outputs": [],
   "source": [
    "# Define function for label manipulation\n",
    "def flip_labels(labels, flip_percentage):\n",
    "    flipped_labels = labels.copy()\n",
    "    num_flips = int(len(labels) * flip_percentage / 100)\n",
    "    flip_indices = random.sample(range(len(labels)), num_flips)\n",
    "    for idx in flip_indices:\n",
    "        current_label = flipped_labels[idx]\n",
    "        possible_labels = [label for label in range(5) if label != current_label]\n",
    "        flipped_labels[idx] = random.choice(possible_labels)\n",
    "    return flipped_labels"
   ]
  },
  {
   "cell_type": "code",
   "execution_count": 14,
   "id": "2ddfb8f5",
   "metadata": {},
   "outputs": [
    {
     "name": "stdout",
     "output_type": "stream",
     "text": [
      "Found 775 validated image filenames belonging to 5 classes.\n"
     ]
    },
    {
     "name": "stderr",
     "output_type": "stream",
     "text": [
      "C:\\ProgramData\\anaconda3\\Lib\\site-packages\\keras\\src\\preprocessing\\image.py:1137: UserWarning: Found 20622 invalid image filename(s) in x_col=\"image_id\". These filename(s) will be ignored.\n",
      "  warnings.warn(\n"
     ]
    },
    {
     "name": "stdout",
     "output_type": "stream",
     "text": [
      "Found 0 validated image filenames belonging to 5 classes.\n"
     ]
    },
    {
     "name": "stderr",
     "output_type": "stream",
     "text": [
      "C:\\ProgramData\\anaconda3\\Lib\\site-packages\\keras\\src\\preprocessing\\image.py:1137: UserWarning: Found 20622 invalid image filename(s) in x_col=\"image_id\". These filename(s) will be ignored.\n",
      "  warnings.warn(\n"
     ]
    }
   ],
   "source": [
    "import pandas as pd\n",
    "from tensorflow.keras.preprocessing.image import ImageDataGenerator\n",
    "\n",
    "# Define data augmentation parameters\n",
    "train_image_datagen = ImageDataGenerator(\n",
    "    rescale=1./255,\n",
    "    shear_range=0.2,\n",
    "    zoom_range=0.2,\n",
    "    horizontal_flip=True\n",
    ")\n",
    "\n",
    "# Define preprocess_data function\n",
    "def preprocess_data(train_data):\n",
    "    # Perform preprocessing steps here\n",
    "    # Example:\n",
    "    train_generator = train_image_datagen.flow_from_dataframe(\n",
    "        dataframe=train_data,\n",
    "        directory='C:/Users/BABATUNDE/Downloads/cassava-leaf-disease-classification/train_images',\n",
    "        x_col='image_id',\n",
    "        y_col='label',\n",
    "        target_size=(300, 300),\n",
    "        batch_size=16,\n",
    "        class_mode='categorical',\n",
    "        subset='training'\n",
    "    )\n",
    "    val_generator = train_image_datagen.flow_from_dataframe(\n",
    "        dataframe=train_data,\n",
    "        directory='C:/Users/BABATUNDE/Downloads/cassava-leaf-disease-classification/train_images',\n",
    "        x_col='image_id',\n",
    "        y_col='label',\n",
    "        target_size=(300, 300),\n",
    "        batch_size=16,\n",
    "        class_mode='categorical',\n",
    "        subset='validation'\n",
    "    )\n",
    "    return train_generator, val_generator\n",
    "\n",
    "# Load and preprocess data\n",
    "train_data = pd.read_csv('C:/Users/BABATUNDE/Downloads/cassava-leaf-disease-classification/train.csv')  # Load your DataFrame from the CSV file\n",
    "train_data['label'] = train_data['label'].astype(str)  # Convert label column to string type\n",
    "train_generator, val_generator = preprocess_data(train_data)\n",
    "\n",
    "# Train the model with original data\n",
    "# Assuming this function is defined elsewhere\n",
    "# model_before = create_model()\n"
   ]
  },
  {
   "cell_type": "code",
   "execution_count": 15,
   "id": "5813f89f",
   "metadata": {},
   "outputs": [
    {
     "name": "stdout",
     "output_type": "stream",
     "text": [
      "WARNING:tensorflow:From C:\\ProgramData\\anaconda3\\Lib\\site-packages\\keras\\src\\backend.py:873: The name tf.get_default_graph is deprecated. Please use tf.compat.v1.get_default_graph instead.\n",
      "\n",
      "WARNING:tensorflow:From C:\\ProgramData\\anaconda3\\Lib\\site-packages\\keras\\src\\layers\\normalization\\batch_normalization.py:979: The name tf.nn.fused_batch_norm is deprecated. Please use tf.compat.v1.nn.fused_batch_norm instead.\n",
      "\n",
      "Epoch 1/5\n",
      "WARNING:tensorflow:From C:\\ProgramData\\anaconda3\\Lib\\site-packages\\keras\\src\\utils\\tf_utils.py:492: The name tf.ragged.RaggedTensorValue is deprecated. Please use tf.compat.v1.ragged.RaggedTensorValue instead.\n",
      "\n",
      "WARNING:tensorflow:From C:\\ProgramData\\anaconda3\\Lib\\site-packages\\keras\\src\\engine\\base_layer_utils.py:384: The name tf.executing_eagerly_outside_functions is deprecated. Please use tf.compat.v1.executing_eagerly_outside_functions instead.\n",
      "\n",
      "49/49 [==============================] - 276s 4s/step - loss: 1.1188 - accuracy: 0.5974\n",
      "Epoch 2/5\n",
      "49/49 [==============================] - 192s 4s/step - loss: 0.7955 - accuracy: 0.7148\n",
      "Epoch 3/5\n",
      "49/49 [==============================] - 187s 4s/step - loss: 0.6487 - accuracy: 0.7755\n",
      "Epoch 4/5\n",
      "49/49 [==============================] - 193s 4s/step - loss: 0.5094 - accuracy: 0.8219\n",
      "Epoch 5/5\n",
      "49/49 [==============================] - 191s 4s/step - loss: 0.4157 - accuracy: 0.8594\n"
     ]
    }
   ],
   "source": [
    "\n",
    "# Define training parameters\n",
    "epochs = 5\n",
    "batch_size = 16\n",
    "\n",
    "\n",
    "# Train the model with original data\n",
    "model_before = create_model()\n",
    "history_before = model_before.fit(train_generator, epochs=epochs, validation_data=val_generator)\n",
    "\n",
    "# Define list of percentages of flipped labels to test\n",
    "flip_percentages = [15]\n",
    "\n",
    "# Dictionary to store accuracy results\n",
    "accuracy_results = {}"
   ]
  },
  {
   "cell_type": "code",
   "execution_count": 18,
   "id": "357aa9bc",
   "metadata": {},
   "outputs": [],
   "source": [
    "y_train = train_data['label']\n",
    "X_train = train_data['image_id']\n"
   ]
  },
  {
   "cell_type": "code",
   "execution_count": null,
   "id": "280857b5",
   "metadata": {},
   "outputs": [],
   "source": [
    "\n"
   ]
  },
  {
   "cell_type": "code",
   "execution_count": 20,
   "id": "7af1bfb9",
   "metadata": {},
   "outputs": [
    {
     "data": {
      "image/png": "[encoded data removed]",
      "text/plain": [
       "<Figure size 1000x600 with 1 Axes>"
      ]
     },
     "metadata": {},
     "output_type": "display_data"
    }
   ],
   "source": [
    "# Plot results\n",
    "plt.figure(figsize=(10, 6))\n",
    "plt.plot(accuracy_results.keys(), [result['before'] for result in accuracy_results.values()], marker='o', label='Before')\n",
    "plt.plot(accuracy_results.keys(), [result['after'] for result in accuracy_results.values()], marker='o', label='After')\n",
    "plt.title('Model Accuracy Before and After Label Manipulation')\n",
    "plt.xlabel('Percentage of Flipped Labels')\n",
    "plt.ylabel('Accuracy')\n",
    "plt.xticks(flip_percentages)\n",
    "plt.legend()\n",
    "plt.grid(True)\n",
    "plt.show()"
   ]
  },
  {
   "cell_type": "code",
   "execution_count": null,
   "id": "ffe52b20",
   "metadata": {},
   "outputs": [
    {
     "name": "stdout",
     "output_type": "stream",
     "text": [
      "         image_id  label\n",
      "0  1000015157.jpg      0\n",
      "1  1000201771.jpg      3\n",
      "2   100042118.jpg      1\n",
      "3  1000723321.jpg      1\n",
      "4  1000812911.jpg      3\n",
      "Found 620 validated image filenames belonging to 5 classes.\n"
     ]
    },
    {
     "name": "stderr",
     "output_type": "stream",
     "text": [
      "C:\\ProgramData\\anaconda3\\Lib\\site-packages\\keras\\src\\preprocessing\\image.py:1137: UserWarning: Found 20622 invalid image filename(s) in x_col=\"image_id\". These filename(s) will be ignored.\n",
      "  warnings.warn(\n"
     ]
    },
    {
     "name": "stdout",
     "output_type": "stream",
     "text": [
      "Found 155 validated image filenames belonging to 5 classes.\n"
     ]
    },
    {
     "name": "stderr",
     "output_type": "stream",
     "text": [
      "C:\\ProgramData\\anaconda3\\Lib\\site-packages\\keras\\src\\preprocessing\\image.py:1137: UserWarning: Found 20622 invalid image filename(s) in x_col=\"image_id\". These filename(s) will be ignored.\n",
      "  warnings.warn(\n"
     ]
    },
    {
     "name": "stdout",
     "output_type": "stream",
     "text": [
      "Epoch 1/5\n",
      "22/39 [===============>..............] - ETA: 1:01 - loss: 1.1943 - accuracy: 0.5767"
     ]
    }
   ],
   "source": [
    "import numpy as np\n",
    "import pandas as pd\n",
    "import matplotlib.pyplot as plt\n",
    "import tensorflow as tf\n",
    "from sklearn.metrics import accuracy_score\n",
    "from tensorflow.keras import layers, models\n",
    "from tensorflow.keras.optimizers import Adam\n",
    "from tensorflow.keras.applications.efficientnet import EfficientNetB3\n",
    "from tensorflow.keras.preprocessing.image import ImageDataGenerator\n",
    "import random\n",
    "\n",
    "# Load and preprocess the dataset\n",
    "def load_data():\n",
    "    train_data = pd.read_csv('C:/Users/BABATUNDE/Downloads/cassava-leaf-disease-classification/train.csv')\n",
    "    print(train_data.head())  # Display head of the dataset\n",
    "    return train_data\n",
    "\n",
    "# Define preprocess_data function to preprocess your dataset\n",
    "def preprocess_data(train_data):\n",
    "    # Preprocess your dataset here\n",
    "    # Example:\n",
    "    train_image_datagen = ImageDataGenerator(\n",
    "        rescale=1./255,\n",
    "        validation_split=0.2  # Split data into training and validation sets\n",
    "    )\n",
    "    train_generator = train_image_datagen.flow_from_dataframe(\n",
    "        dataframe=train_data,\n",
    "        directory='C:/Users/BABATUNDE/Downloads/cassava-leaf-disease-classification/train_images',\n",
    "        x_col='image_id',\n",
    "        y_col='label',\n",
    "        target_size=(300, 300),\n",
    "        batch_size=16,\n",
    "        class_mode='categorical',\n",
    "        subset='training'\n",
    "    )\n",
    "    val_generator = train_image_datagen.flow_from_dataframe(\n",
    "        dataframe=train_data,\n",
    "        directory='C:/Users/BABATUNDE/Downloads/cassava-leaf-disease-classification/train_images',\n",
    "        x_col='image_id',\n",
    "        y_col='label',\n",
    "        target_size=(300, 300),\n",
    "        batch_size=16,\n",
    "        class_mode='categorical',\n",
    "        subset='validation'\n",
    "    )\n",
    "    return train_generator, val_generator\n",
    "\n",
    "# Define model architecture\n",
    "def create_model(input_shape=(300, 300, 3)):\n",
    "    model = models.Sequential()\n",
    "    model.add(EfficientNetB3(include_top=False, weights='imagenet', input_shape=input_shape, drop_connect_rate=0.3))\n",
    "    model.add(layers.GlobalAveragePooling2D())\n",
    "    model.add(layers.Flatten())\n",
    "    model.add(layers.Dense(256, activation=\"relu\"))\n",
    "    model.add(layers.Dropout(0.3))\n",
    "    model.add(layers.Dense(5, activation='softmax'))\n",
    "    loss = tf.keras.losses.CategoricalCrossentropy(label_smoothing=0.0001, name='categorical_crossentropy')\n",
    "    optimizer = Adam(learning_rate=1e-4)\n",
    "    model.compile(optimizer=optimizer, loss=loss, metrics=[\"accuracy\"])\n",
    "    return model\n",
    "\n",
    "# Define function for label manipulation detection\n",
    "def detect_label_manipulation(model, train_generator, val_generator):\n",
    "    # Train the model with original data\n",
    "    history_before = model.fit(train_generator, epochs=5, validation_data=val_generator)\n",
    "    \n",
    "    # Define list of percentages of flipped labels to test\n",
    "    flip_percentages = [5, 10, 15, 20]\n",
    "    \n",
    "    # Dictionary to store accuracy results\n",
    "    accuracy_results = {}\n",
    "    \n",
    "    for flip_percentage in flip_percentages:\n",
    "        # Apply label manipulation\n",
    "        flipped_labels = flip_labels(train_generator.labels, flip_percentage)\n",
    "        \n",
    "        # Evaluate model with manipulated labels\n",
    "        manipulated_train_generator = train_generator\n",
    "        manipulated_train_generator.labels = flipped_labels\n",
    "        accuracy_after = model.evaluate(manipulated_train_generator)[1]\n",
    "        \n",
    "        accuracy_results[flip_percentage] = {'before': history_before.history['accuracy'][-1],\n",
    "                                             'after': accuracy_after}\n",
    "    \n",
    "    # Plot results\n",
    "    plt.figure(figsize=(10, 6))\n",
    "    plt.plot(accuracy_results.keys(), [result['before'] for result in accuracy_results.values()], marker='o', label='Before')\n",
    "    plt.plot(accuracy_results.keys(), [result['after'] for result in accuracy_results.values()], marker='o', label='After')\n",
    "    plt.title('Model Accuracy Before and After Label Manipulation')\n",
    "    plt.xlabel('Percentage of Flipped Labels')\n",
    "    plt.ylabel('Accuracy')\n",
    "    plt.xticks(flip_percentages)\n",
    "    plt.legend()\n",
    "    plt.grid(True)\n",
    "    plt.show()\n",
    "\n",
    "# Define function for label manipulation\n",
    "def flip_labels(labels, flip_percentage):\n",
    "    flipped_labels = labels.copy()\n",
    "    num_flips = int(len(labels) * flip_percentage / 100)\n",
    "    flip_indices = random.sample(range(len(labels)), num_flips)\n",
    "    for idx in flip_indices:\n",
    "        current_label = flipped_labels[idx]\n",
    "        possible_labels = [label for label in range(5) if label != current_label]\n",
    "        flipped_labels[idx] = random.choice(possible_labels)\n",
    "    return flipped_labels\n",
    "\n",
    "# Load and preprocess data\n",
    "train_data = load_data()\n",
    "train_data['label'] = train_data['label'].astype(str)\n",
    "train_generator, val_generator = preprocess_data(train_data)\n",
    "\n",
    "# Create and train the model with original data\n",
    "model = create_model()\n",
    "detect_label_manipulation(model, train_generator, val_generator)\n"
   ]
  },
  {
   "cell_type": "code",
   "execution_count": null,
   "id": "bcc2f4ae",
   "metadata": {},
   "outputs": [],
   "source": []
  }
 ],
 "metadata": {
  "kernelspec": {
   "display_name": "Python 3 (ipykernel)",
   "language": "python",
   "name": "python3"
  },
  "language_info": {
   "codemirror_mode": {
    "name": "ipython",
    "version": 3
   },
   "file_extension": ".py",
   "mimetype": "text/x-python",
   "name": "python",
   "nbconvert_exporter": "python",
   "pygments_lexer": "ipython3",
   "version": "3.11.5"
  }
 },
 "nbformat": 4,
 "nbformat_minor": 5
}
